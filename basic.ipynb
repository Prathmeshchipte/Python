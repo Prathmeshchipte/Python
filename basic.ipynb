{
 "cells": [
  {
   "cell_type": "code",
   "execution_count": null,
   "id": "5a466d4d",
   "metadata": {},
   "outputs": [],
   "source": [
    "python is a interpreted, high level, object oriented and dynamic typing language.\n",
    "it is case sensitive.\n",
    "a=20"
   ]
  },
  {
   "cell_type": "code",
   "execution_count": 2,
   "id": "aababaf3",
   "metadata": {},
   "outputs": [
    {
     "name": "stdout",
     "output_type": "stream",
     "text": [
      "hi prathmesh! \n",
      "how are you?\n"
     ]
    }
   ],
   "source": [
    "print(\"hi prathmesh! \\nhow are you?\")"
   ]
  },
  {
   "cell_type": "code",
   "execution_count": 11,
   "id": "46a6ac12",
   "metadata": {},
   "outputs": [
    {
     "ename": "SyntaxError",
     "evalue": "invalid syntax (Temp/ipykernel_18588/1577088118.py, line 3)",
     "output_type": "error",
     "traceback": [
      "\u001b[1;36m  File \u001b[1;32m\"C:\\Users\\USER\\AppData\\Local\\Temp/ipykernel_18588/1577088118.py\"\u001b[1;36m, line \u001b[1;32m3\u001b[0m\n\u001b[1;33m    print(a\"=\"b)\u001b[0m\n\u001b[1;37m           ^\u001b[0m\n\u001b[1;31mSyntaxError\u001b[0m\u001b[1;31m:\u001b[0m invalid syntax\n"
     ]
    }
   ],
   "source": [
    "a=(\"prathmesh\")\n",
    "b=('chipte')\n",
    "\n"
   ]
  },
  {
   "cell_type": "code",
   "execution_count": 13,
   "id": "ccfd7654",
   "metadata": {},
   "outputs": [
    {
     "name": "stdout",
     "output_type": "stream",
     "text": [
      "prathmesh@chipte\n"
     ]
    }
   ],
   "source": [
    "print(\"prathmesh\",end='@')\n",
    "print(\"chipte\")"
   ]
  },
  {
   "cell_type": "code",
   "execution_count": 18,
   "id": "3261f0ea",
   "metadata": {},
   "outputs": [
    {
     "name": "stdout",
     "output_type": "stream",
     "text": [
      "enter length: 6\n",
      "enter height: 5\n",
      "30\n"
     ]
    }
   ],
   "source": [
    "a=int(input(\"enter length: \"))\n",
    "b=int(input(\"enter height: \"))\n",
    "c=a*b\n",
    "print(c)"
   ]
  },
  {
   "cell_type": "code",
   "execution_count": null,
   "id": "f2e8cc88",
   "metadata": {},
   "outputs": [],
   "source": []
  }
 ],
 "metadata": {
  "kernelspec": {
   "display_name": "Python 3 (ipykernel)",
   "language": "python",
   "name": "python3"
  },
  "language_info": {
   "codemirror_mode": {
    "name": "ipython",
    "version": 3
   },
   "file_extension": ".py",
   "mimetype": "text/x-python",
   "name": "python",
   "nbconvert_exporter": "python",
   "pygments_lexer": "ipython3",
   "version": "3.9.7"
  }
 },
 "nbformat": 4,
 "nbformat_minor": 5
}
