{
 "cells": [
  {
   "cell_type": "code",
   "execution_count": null,
   "id": "0e355832",
   "metadata": {},
   "outputs": [],
   "source": [
    "python is a interpreted, high level, object oriented and dynamic typing language.\n",
    "it is case sensitive.\n",
    "a=20"
   ]
  },
  {
   "cell_type": "code",
   "execution_count": 2,
   "id": "9df0182b",
   "metadata": {},
   "outputs": [
    {
     "name": "stdout",
     "output_type": "stream",
     "text": [
      "hi prathmesh! \n",
      "how are you?\n"
     ]
    }
   ],
   "source": [
    "print(\"hi prathmesh! \\nhow are you?\")"
   ]
  },
  {
   "cell_type": "code",
   "execution_count": 13,
   "id": "2667d4e0",
   "metadata": {},
   "outputs": [
    {
     "name": "stdout",
     "output_type": "stream",
     "text": [
      "prathmesh@chipte\n"
     ]
    }
   ],
   "source": [
    "print(\"prathmesh\",end='@')\n",
    "print(\"chipte\")"
   ]
  },
  {
   "cell_type": "code",
   "execution_count": 18,
   "id": "97e6a2f3",
   "metadata": {},
   "outputs": [
    {
     "name": "stdout",
     "output_type": "stream",
     "text": [
      "enter length: 6\n",
      "enter height: 5\n",
      "30\n"
     ]
    }
   ],
   "source": [
    "a=int(input(\"enter length: \"))\n",
    "b=int(input(\"enter height: \"))\n",
    "c=a*b\n",
    "print(c)"
   ]
  },
  {
   "cell_type": "code",
   "execution_count": 20,
   "id": "8183fcee",
   "metadata": {},
   "outputs": [
    {
     "name": "stdout",
     "output_type": "stream",
     "text": [
      "Prathmesh Chipte Marksheet\n",
      "Enter your english marks: 60\n",
      "Enter your maths marks: 70\n",
      "Enter your chemistry marks: 50\n",
      "Enter your physics marks: 70\n",
      "Enter your biology marks: 80\n",
      "66.0\n"
     ]
    }
   ],
   "source": [
    "print(\"Prathmesh Chipte Marksheet\")\n",
    "english=float(input(\"Enter your english marks: \"))\n",
    "maths=float(input(\"Enter your maths marks: \"))\n",
    "chemistry=float(input(\"Enter your chemistry marks: \"))\n",
    "physics=float(input(\"Enter your physics marks: \"))\n",
    "biology=float(input(\"Enter your biology marks: \"))\n",
    "g=english+maths+chemistry+physics+biology\n",
    "t=500\n",
    "p=g/t*100\n",
    "print(p)\n"
   ]
  },
  {
   "cell_type": "code",
   "execution_count": null,
   "id": "f7a49d16",
   "metadata": {},
   "outputs": [],
   "source": []
  }
 ],
 "metadata": {
  "kernelspec": {
   "display_name": "Python 3 (ipykernel)",
   "language": "python",
   "name": "python3"
  },
  "language_info": {
   "codemirror_mode": {
    "name": "ipython",
    "version": 3
   },
   "file_extension": ".py",
   "mimetype": "text/x-python",
   "name": "python",
   "nbconvert_exporter": "python",
   "pygments_lexer": "ipython3",
   "version": "3.9.7"
  }
 },
 "nbformat": 4,
 "nbformat_minor": 5
}
