{
 "cells": [
  {
   "cell_type": "code",
   "execution_count": 9,
   "id": "262c3537",
   "metadata": {},
   "outputs": [
    {
     "name": "stdout",
     "output_type": "stream",
     "text": [
      "To print my self, need your details.\n",
      "Your Details\n",
      "1. Name ? = Prathmesh Ganpat Chipte\n",
      "2. Age ? = 23\n",
      "3. Where do you stay  ? = Sewri(Mumbai)\n",
      "4. Qualification  ? = BE\n",
      "5. Recent work profile  ? = Data Analyst\n",
      "6. Company Name  ? =Eclerx\n",
      "7. Hooby ? = Gaming\n",
      "8. interest in field ? = Data Science\n",
      "9. Your Passion ? =Analyst\n",
      "10.Your goal  ? = Work with Google\n",
      "                             **My Self**                              \n",
      "Good Morning / Good Afternoon\n",
      "\tMy name is Prathmesh Ganpat Chipte. I am 23 years old. I am staying in Sewri(Mumbai). My highest qualification is BE . \n",
      "\n",
      "\tRecently i am working as Data Analyst profile in Eclerx. My hobby is Gaming. I am interested in work as a Data Science field. I am passionate about  Analyst . My goal  is Work with Google .\n",
      "\tThank You .\n"
     ]
    }
   ],
   "source": [
    "print(\"To print my self, need your details.\")\n",
    "print(\"Your Details\")\n",
    "a = input(\"1. Name ? = \")                             # %S\n",
    "b = int(input(\"2. Age ? = \"))                         # %d\n",
    "c = input(\"3. Where do you stay  ? = \")               # %s\n",
    "d = input(\"4. Qualification  ? = \")                   # %s\n",
    "e = input(\"5. Recent work profile  ? = \")             # %s\n",
    "j = input(\"6. Company Name  ? =\")\n",
    "f = input(\"7. Hooby ? = \")\n",
    "g = input(\"8. interest in field ? = \")\n",
    "h = input(\"9. Your Passion ? =\")\n",
    "i = input(\"10.Your goal  ? = \")\n",
    "\n",
    "z=(\"**My Self**\")\n",
    "z=z.center(70)\n",
    "print(z)\n",
    "print(\"Good Morning / Good Afternoon\")\n",
    "print(\"\\tMy name is %s.\" %(a) , end=\" \")\n",
    "print(\"I am %d years old.\" %(b) , end=\" \")\n",
    "print(\"I am staying in %s.\" %(c) , end=\" \")\n",
    "print(\"My highest qualification is %s .\" %(d) , end=\" \")\n",
    "print(\"\\n\")\n",
    "print(\"\\tRecently i am working as %s profile in %s.\" %(e , j) , end=\" \")\n",
    "print(\"My hobby is %s.\" %(f) , end=\" \")\n",
    "print(\"I am interested in work as a %s field.\" %(g) , end=\" \")\n",
    "print(\"I am passionate about  %s .\" %(h)  , end=\" \" )\n",
    "print(\"My goal  is %s .\" %(i))\n",
    "print(\"\\tThank You .\")"
   ]
  },
  {
   "cell_type": "code",
   "execution_count": 7,
   "id": "05a351b0",
   "metadata": {},
   "outputs": [
    {
     "name": "stdout",
     "output_type": "stream",
     "text": [
      "                               my self                                \n"
     ]
    }
   ],
   "source": [
    "z=(\"my self\")\n",
    "z=z.center(70)\n",
    "print(z)"
   ]
  },
  {
   "cell_type": "code",
   "execution_count": null,
   "id": "513bd417",
   "metadata": {},
   "outputs": [],
   "source": []
  }
 ],
 "metadata": {
  "kernelspec": {
   "display_name": "Python 3 (ipykernel)",
   "language": "python",
   "name": "python3"
  },
  "language_info": {
   "codemirror_mode": {
    "name": "ipython",
    "version": 3
   },
   "file_extension": ".py",
   "mimetype": "text/x-python",
   "name": "python",
   "nbconvert_exporter": "python",
   "pygments_lexer": "ipython3",
   "version": "3.9.7"
  }
 },
 "nbformat": 4,
 "nbformat_minor": 5
}
