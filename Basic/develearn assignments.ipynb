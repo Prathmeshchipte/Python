{
 "cells": [
  {
   "cell_type": "code",
   "execution_count": 2,
   "id": "cd806f47",
   "metadata": {},
   "outputs": [
    {
     "name": "stdout",
     "output_type": "stream",
     "text": [
      "Area of triangle 25.0\n"
     ]
    }
   ],
   "source": [
    "#WAP to calculate and print the area of triangle with base as 5 and height 10.\n",
    "base=5\n",
    "height=10\n",
    "area=(1/2*base*height)\n",
    "print('Area of triangle',area)\n"
   ]
  },
  {
   "cell_type": "code",
   "execution_count": 4,
   "id": "2df38219",
   "metadata": {},
   "outputs": [
    {
     "name": "stdout",
     "output_type": "stream",
     "text": [
      "Enter your base value10\n",
      "Enter your height value15\n",
      "Area of triangle 75.0\n"
     ]
    }
   ],
   "source": [
    "#WAP a program to input the base and height of triangle.calculate and print the area.\n",
    "base=int(input('Enter your base value'))\n",
    "height=int(input('Enter your height value'))\n",
    "area=(1/2*base*height)\n",
    "print('Area of triangle',area)\n"
   ]
  },
  {
   "cell_type": "code",
   "execution_count": 13,
   "id": "0d23cd21",
   "metadata": {},
   "outputs": [
    {
     "name": "stdout",
     "output_type": "stream",
     "text": [
      "Enter your side1 value: 13\n",
      "Enter your side2 value: 13\n",
      "Enter your side3 value: 13\n",
      "5355.1875\n"
     ]
    }
   ],
   "source": [
    "#WAP a program to input length of 3 sides of triangle and print the area \n",
    "side1=float(input('Enter your side1 value: '))\n",
    "side2=float(input('Enter your side2 value: '))\n",
    "side3=float(input('Enter your side3 value: '))\n",
    "s=(side1+side2+side3)/2\n",
    "area=(s*(s-side1)*(s-side2)*(s-side3))\n",
    "print(area)"
   ]
  },
  {
   "cell_type": "code",
   "execution_count": 14,
   "id": "859fb43e",
   "metadata": {},
   "outputs": [
    {
     "name": "stdout",
     "output_type": "stream",
     "text": [
      "Enter your hours: 4\n",
      "Enter your minutes: 30\n",
      "Enter your second: 5\n",
      "Total time in seconds is:  16205\n"
     ]
    }
   ],
   "source": [
    "#WAP to accept in hours,minutes and second and then calculate and print the time in seconds.\n",
    "hours=int(input('Enter your hours: '))\n",
    "minutes=int(input('Enter your minutes: '))\n",
    "second=int(input('Enter your second: '))\n",
    "hours=hours*3600\n",
    "minutes=minutes*60\n",
    "total_time=(hours+minutes+second)\n",
    "print(\"Total time in seconds is: \",total_time)\n"
   ]
  },
  {
   "cell_type": "code",
   "execution_count": 17,
   "id": "ee97e6fe",
   "metadata": {},
   "outputs": [
    {
     "name": "stdout",
     "output_type": "stream",
     "text": [
      "Enter your number1: 13\n",
      "Enter your number2: 17\n",
      "Your first number is:  17\n",
      "Your second number is:  13\n"
     ]
    }
   ],
   "source": [
    "#WAP to accept 2 numbers.interchange the two numbers and then print them\n",
    "number1=int(input('Enter your number1: '))\n",
    "number2=int(input('Enter your number2: '))\n",
    "interchange=number1\n",
    "number1=number2\n",
    "number2=interchange\n",
    "print(\"Your first number is: \",number1)\n",
    "print(\"Your second number is: \",number2)"
   ]
  },
  {
   "cell_type": "code",
   "execution_count": 22,
   "id": "96a2f1d5",
   "metadata": {},
   "outputs": [
    {
     "name": "stdout",
     "output_type": "stream",
     "text": [
      "Enter your bill no: 144\n",
      "Enter your sales amount: 6000\n",
      "Bill no 144\n",
      "sales amount 6000\n",
      "sales tax 600.0\n",
      "Your net amount is  6600.0\n"
     ]
    }
   ],
   "source": [
    "#WAP to input bills no.and sales amount.Display bill no, sales amount, sales tax and net amount.\n",
    "#sales tax is 5%of sales, if sales is upto 5000 otherwise 10%\n",
    "bill_no=int(input('Enter your bill no: '))\n",
    "sales_amount=int(input('Enter your sales amount: '))\n",
    "if sales_amount<=5000:\n",
    "    sales_tax=(sales_amount)*0.05\n",
    "else:\n",
    "    sales_tax=(sales_amount)*0.1\n",
    "    net_amount=(sales_amount)+(sales_tax)\n",
    "    print(\"Bill no\",bill_no)\n",
    "    print('sales amount',sales_amount)\n",
    "    print('sales tax',sales_tax)\n",
    "    print(\"Your net amount is \",net_amount)\n",
    "    "
   ]
  },
  {
   "cell_type": "code",
   "execution_count": 28,
   "id": "1c279324",
   "metadata": {},
   "outputs": [
    {
     "name": "stdout",
     "output_type": "stream",
     "text": [
      "First 10 even numbers are as follows\n",
      "0\n",
      "2\n",
      "4\n",
      "6\n",
      "8\n",
      "10\n",
      "12\n",
      "14\n",
      "16\n",
      "18\n",
      "20\n"
     ]
    }
   ],
   "source": [
    "print(\"First 10 even numbers are as follows\")\n",
    "for i in range(0,21):\n",
    "    if i%2==0:\n",
    "        print(i)"
   ]
  },
  {
   "cell_type": "code",
   "execution_count": 29,
   "id": "c81a5629",
   "metadata": {},
   "outputs": [
    {
     "name": "stdout",
     "output_type": "stream",
     "text": [
      "First 10 odd numbers are as follows\n",
      "1\n",
      "3\n",
      "5\n",
      "7\n",
      "9\n",
      "11\n",
      "13\n",
      "15\n",
      "17\n",
      "19\n"
     ]
    }
   ],
   "source": [
    "print(\"First 10 odd numbers are as follows\")\n",
    "for i in range(0,21):\n",
    "    if i%2==1:\n",
    "        print(i)"
   ]
  },
  {
   "cell_type": "code",
   "execution_count": 31,
   "id": "d7618cc1",
   "metadata": {},
   "outputs": [
    {
     "name": "stdout",
     "output_type": "stream",
     "text": [
      "First 10 even numbers in reverse order are as follows\n",
      "20\n",
      "18\n",
      "16\n",
      "14\n",
      "12\n",
      "10\n",
      "8\n",
      "6\n",
      "4\n",
      "2\n"
     ]
    }
   ],
   "source": [
    "print(\"First 10 even numbers in reverse order are as follows\")\n",
    "for i in range(21,0,-1):\n",
    "    if i%2==0:\n",
    "        print(i)"
   ]
  },
  {
   "cell_type": "code",
   "execution_count": 36,
   "id": "6f01b557",
   "metadata": {},
   "outputs": [
    {
     "name": "stdout",
     "output_type": "stream",
     "text": [
      "First 10 numbers which is multiples of 2,3:\n",
      "6\n",
      "12\n",
      "18\n"
     ]
    }
   ],
   "source": [
    "print('First 10 numbers which is multiples of 2,3:')\n",
    "for i in range(1,20):\n",
    "    if i%2==0 and i%3==0:\n",
    "        print(i)"
   ]
  },
  {
   "cell_type": "code",
   "execution_count": null,
   "id": "55d2dded",
   "metadata": {},
   "outputs": [],
   "source": []
  }
 ],
 "metadata": {
  "kernelspec": {
   "display_name": "Python 3 (ipykernel)",
   "language": "python",
   "name": "python3"
  },
  "language_info": {
   "codemirror_mode": {
    "name": "ipython",
    "version": 3
   },
   "file_extension": ".py",
   "mimetype": "text/x-python",
   "name": "python",
   "nbconvert_exporter": "python",
   "pygments_lexer": "ipython3",
   "version": "3.9.7"
  }
 },
 "nbformat": 4,
 "nbformat_minor": 5
}
