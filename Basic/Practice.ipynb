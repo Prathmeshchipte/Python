{
 "cells": [
  {
   "cell_type": "code",
   "execution_count": 13,
   "id": "b0cdd7ed",
   "metadata": {},
   "outputs": [
    {
     "name": "stdout",
     "output_type": "stream",
     "text": [
      "Enter your Password: Prat1999\n",
      "Password is invalid\n"
     ]
    }
   ],
   "source": [
    "#Write a program in python that accepts a string to setup a passwords.\n",
    "#Your entered password must meet the following requirements:\n",
    "\n",
    "#The password must be at least eight characters long.\n",
    "#It must contain at least one uppercase letter.\n",
    "#It must contain at least one lowercase letter.\n",
    "#It must contain at least one numeric digit.\n",
    "a=(input(\"Enter your Password: \"))\n",
    "b=uppercase=lowercase=numeric=False\n",
    "if len(a)>=8:\n",
    "    b=True\n",
    "    for i in a:\n",
    "        if i.isupper():\n",
    "            uppercase=True\n",
    "        elif i.lower():\n",
    "            lowercase=True\n",
    "        elif i.digit():\n",
    "            numeric=True\n",
    "if b and uppercase and lowercase and numeric:\n",
    "    print(\"Password is valid\")\n",
    "else:\n",
    "    print(\"Password is invalid\")"
   ]
  },
  {
   "cell_type": "code",
   "execution_count": 19,
   "id": "136647d9",
   "metadata": {},
   "outputs": [
    {
     "name": "stdout",
     "output_type": "stream",
     "text": [
      "Enter anything: examination 2021\n",
      "xamination 2021e\n"
     ]
    }
   ],
   "source": [
    "#Write a Python program that accepts a string from user.\n",
    "#Your program should create a new string by shifting one position to left.\n",
    "#For example if the user enters the string 'examination 2021' then new string would be 'xamination 2021e'\n",
    "a=input(\"Enter anything: \")\n",
    "b=a[1]+a[2:]+a[0]\n",
    "print(b)"
   ]
  },
  {
   "cell_type": "code",
   "execution_count": null,
   "id": "4e9e8e13",
   "metadata": {},
   "outputs": [],
   "source": []
  }
 ],
 "metadata": {
  "kernelspec": {
   "display_name": "Python 3 (ipykernel)",
   "language": "python",
   "name": "python3"
  },
  "language_info": {
   "codemirror_mode": {
    "name": "ipython",
    "version": 3
   },
   "file_extension": ".py",
   "mimetype": "text/x-python",
   "name": "python",
   "nbconvert_exporter": "python",
   "pygments_lexer": "ipython3",
   "version": "3.9.7"
  }
 },
 "nbformat": 4,
 "nbformat_minor": 5
}
