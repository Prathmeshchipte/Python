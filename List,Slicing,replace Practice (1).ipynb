{
 "cells": [
  {
   "cell_type": "code",
   "execution_count": 62,
   "id": "a36a74c7",
   "metadata": {},
   "outputs": [
    {
     "name": "stdout",
     "output_type": "stream",
     "text": [
      "['Prathmesh Chipte', 1.2, 'Data Analyst', 'Sewri']\n"
     ]
    }
   ],
   "source": [
    "#Create list of your name,age, field ,location using [] and list constructor\n",
    "Details=['Prathmesh Chipte',1.2,'Data Analyst','Sewri']\n",
    "print(Details)"
   ]
  },
  {
   "cell_type": "code",
   "execution_count": 34,
   "id": "a11bed5a",
   "metadata": {},
   "outputs": [
    {
     "name": "stdout",
     "output_type": "stream",
     "text": [
      "['Prathmesh Chipte', 1.2, 'Data Analyst', 'Sewri']\n"
     ]
    }
   ],
   "source": [
    "#Create list of your name,age, field ,location using [] and list constructor\n",
    "Details=list(('Prathmesh Chipte',1.2,'Data Analyst','Sewri'))\n",
    "print(Details)"
   ]
  },
  {
   "cell_type": "code",
   "execution_count": 16,
   "id": "4f5d2d90",
   "metadata": {},
   "outputs": [
    {
     "data": {
      "text/plain": [
       "'Data Analyst'"
      ]
     },
     "execution_count": 16,
     "metadata": {},
     "output_type": "execute_result"
    }
   ],
   "source": [
    "#print only your field using index method\n",
    "Details[2]"
   ]
  },
  {
   "cell_type": "code",
   "execution_count": 17,
   "id": "2d022ecb",
   "metadata": {},
   "outputs": [
    {
     "data": {
      "text/plain": [
       "3"
      ]
     },
     "execution_count": 17,
     "metadata": {},
     "output_type": "execute_result"
    }
   ],
   "source": [
    "#print the position of location element\n",
    "Details.index(\"Sewri\")"
   ]
  },
  {
   "cell_type": "code",
   "execution_count": 38,
   "id": "48a3931e",
   "metadata": {},
   "outputs": [
    {
     "data": {
      "text/plain": [
       "'Data Analyst'"
      ]
     },
     "execution_count": 38,
     "metadata": {},
     "output_type": "execute_result"
    }
   ],
   "source": [
    "#print element btw age and locaton ,using forward and backward indexing\n",
    "Details[2]"
   ]
  },
  {
   "cell_type": "code",
   "execution_count": 63,
   "id": "47cfd884",
   "metadata": {},
   "outputs": [
    {
     "data": {
      "text/plain": [
       "'Data Analyst'"
      ]
     },
     "execution_count": 63,
     "metadata": {},
     "output_type": "execute_result"
    }
   ],
   "source": [
    "#print element btw age and locaton ,using forward and backward indexing\n",
    "Details[-2]"
   ]
  },
  {
   "cell_type": "code",
   "execution_count": 32,
   "id": "6e9dc178",
   "metadata": {},
   "outputs": [
    {
     "name": "stdout",
     "output_type": "stream",
     "text": [
      "['Chipte', 1.2, 'Data Analyst', 'Sewri']\n"
     ]
    }
   ],
   "source": [
    "#replace the element of name with surname\n",
    "Details=['Prathmesh Chipte',1.2,'Data Analyst','Sewri']\n",
    "Details[0]=\"Chipte\"\n",
    "print(Details)\n"
   ]
  },
  {
   "cell_type": "code",
   "execution_count": 54,
   "id": "2b74a093",
   "metadata": {},
   "outputs": [
    {
     "name": "stdout",
     "output_type": "stream",
     "text": [
      "['Chipte', 'Data Analyst', 'Sewri']\n"
     ]
    }
   ],
   "source": [
    "#replace the element of name,age with only surname\n",
    "Details[0:2] = ['Chipte']\n",
    "print(Details)"
   ]
  },
  {
   "cell_type": "code",
   "execution_count": 57,
   "id": "59b92f6e",
   "metadata": {},
   "outputs": [
    {
     "name": "stdout",
     "output_type": "stream",
     "text": [
      "['banana', 'apple', 'mango', 'Sewri']\n"
     ]
    }
   ],
   "source": [
    "#replace the element of name ,age and field(into anything)\n",
    "Details[0:3] = ['banana','apple','mango']\n",
    "print(Details)"
   ]
  },
  {
   "cell_type": "code",
   "execution_count": 64,
   "id": "d979302b",
   "metadata": {},
   "outputs": [
    {
     "name": "stdout",
     "output_type": "stream",
     "text": [
      "['Patu', 'Chipte', 1.2, 'Data Analyst', 'Sewri']\n"
     ]
    }
   ],
   "source": [
    "#replace the element of name with your nickname and surname'\n",
    "Details[0:1]=['Patu', 'Chipte']\n",
    "print(Details)"
   ]
  },
  {
   "cell_type": "code",
   "execution_count": null,
   "id": "502a073a",
   "metadata": {},
   "outputs": [],
   "source": []
  }
 ],
 "metadata": {
  "kernelspec": {
   "display_name": "Python 3 (ipykernel)",
   "language": "python",
   "name": "python3"
  },
  "language_info": {
   "codemirror_mode": {
    "name": "ipython",
    "version": 3
   },
   "file_extension": ".py",
   "mimetype": "text/x-python",
   "name": "python",
   "nbconvert_exporter": "python",
   "pygments_lexer": "ipython3",
   "version": "3.9.7"
  }
 },
 "nbformat": 4,
 "nbformat_minor": 5
}
