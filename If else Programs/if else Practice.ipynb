{
 "cells": [
  {
   "cell_type": "code",
   "execution_count": 4,
   "id": "08822e9a",
   "metadata": {},
   "outputs": [
    {
     "name": "stdout",
     "output_type": "stream",
     "text": [
      "Enter your percentage: 52\n",
      "Grade B+\n"
     ]
    }
   ],
   "source": [
    "percentage=int(input('Enter your percentage: '))\n",
    "if percentage<=25:\n",
    "    print('Grade B')\n",
    "elif percentage<=45:\n",
    "    print('Grade C')\n",
    "elif percentage<=50:\n",
    "    print('Grade B')\n",
    "elif percentage<=60:\n",
    "    print('Grade B+')\n",
    "elif percentage<=80:\n",
    "    print('Grade A')\n",
    "else:\n",
    "    print('A+')"
   ]
  },
  {
   "cell_type": "code",
   "execution_count": 6,
   "id": "d7f43ff9",
   "metadata": {},
   "outputs": [
    {
     "name": "stdout",
     "output_type": "stream",
     "text": [
      "Enter your String1: pit\n",
      "Enter your String2: tip\n",
      "It is an anagram\n"
     ]
    }
   ],
   "source": [
    "string1=input('Enter your String1: ')\n",
    "string2=input('Enter your String2: ')\n",
    "if len(string1)==len(string2):\n",
    "    string1=string1.lower()\n",
    "    string2=string2.lower()\n",
    "    s1=sorted(string1)\n",
    "    s2=sorted(string2)\n",
    "    if s1==s2:\n",
    "        print('It is an anagram')\n",
    "    else:\n",
    "        print('It is not an anagram')\n",
    "else:\n",
    "    print('It is not an anagram')\n"
   ]
  },
  {
   "cell_type": "code",
   "execution_count": 13,
   "id": "6d4cdf6a",
   "metadata": {},
   "outputs": [
    {
     "name": "stdout",
     "output_type": "stream",
     "text": [
      "Enter your 1 side: 25\n",
      "Enter your 2 side: 40\n",
      "Enter your 3 side: 25\n",
      "It is an isosceles triangle\n"
     ]
    }
   ],
   "source": [
    "a=int(input('Enter your 1 side: '))\n",
    "b=int(input('Enter your 2 side: '))\n",
    "c=int(input('Enter your 3 side: '))\n",
    "if a==b==c:\n",
    "    print('It is a equalateral triangle')\n",
    "elif a!=b and b!=c and c!=a:\n",
    "    print('It is a scalene triangle')\n",
    "else:\n",
    "    print(\"It is an isosceles triangle\")"
   ]
  },
  {
   "cell_type": "code",
   "execution_count": null,
   "id": "6dd5f490",
   "metadata": {},
   "outputs": [],
   "source": []
  }
 ],
 "metadata": {
  "kernelspec": {
   "display_name": "Python 3 (ipykernel)",
   "language": "python",
   "name": "python3"
  },
  "language_info": {
   "codemirror_mode": {
    "name": "ipython",
    "version": 3
   },
   "file_extension": ".py",
   "mimetype": "text/x-python",
   "name": "python",
   "nbconvert_exporter": "python",
   "pygments_lexer": "ipython3",
   "version": "3.9.7"
  }
 },
 "nbformat": 4,
 "nbformat_minor": 5
}
