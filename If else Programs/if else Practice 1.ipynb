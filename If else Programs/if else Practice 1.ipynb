{
 "cells": [
  {
   "cell_type": "code",
   "execution_count": 1,
   "id": "98359fa8",
   "metadata": {},
   "outputs": [
    {
     "name": "stdout",
     "output_type": "stream",
     "text": [
      "no it is not present\n"
     ]
    }
   ],
   "source": [
    "name=('Python')\n",
    "if \"a\" in name:\n",
    "    print('yes it is present')\n",
    "else:\n",
    "    print(\"no it is not present\")"
   ]
  },
  {
   "cell_type": "code",
   "execution_count": 2,
   "id": "5513835d",
   "metadata": {},
   "outputs": [
    {
     "name": "stdout",
     "output_type": "stream",
     "text": [
      "enter your number: 5\n",
      "enter your number: 6\n",
      "enter your number: 7\n",
      "c is largest\n"
     ]
    }
   ],
   "source": [
    "a=int(input('enter your number: '))\n",
    "b=int(input('enter your number: '))\n",
    "c=int(input('enter your number: '))\n",
    "if a>b:\n",
    "    print('a is largest')\n",
    "elif b>c:\n",
    "    print(\"b is largest\")\n",
    "else:\n",
    "    print('c is largest')\n"
   ]
  },
  {
   "cell_type": "code",
   "execution_count": 9,
   "id": "bb9288df",
   "metadata": {},
   "outputs": [
    {
     "name": "stdout",
     "output_type": "stream",
     "text": [
      "enter your year: 1999\n",
      "It is not a leap year\n"
     ]
    }
   ],
   "source": [
    "a=int(input(\"enter your year: \"))\n",
    "if (a%4==0 and (a%400==0 or a%100!=0)):\n",
    "    print('It is a leap year')\n",
    "else:\n",
    "    print('It is not a leap year')"
   ]
  },
  {
   "cell_type": "code",
   "execution_count": 12,
   "id": "1c4e7748",
   "metadata": {},
   "outputs": [
    {
     "name": "stdout",
     "output_type": "stream",
     "text": [
      "Total number of working days: 250\n",
      "Total number of days for present: 100\n",
      "40.0\n",
      "Student will not be able to sit in exam\n"
     ]
    }
   ],
   "source": [
    "a=int(input('Total number of working days: '))\n",
    "b=int(input('Total number of days for present: '))\n",
    "c=(b/a)*100\n",
    "print(c)\n",
    "if c<75:\n",
    "    print('Student will not be able to sit in exam')\n",
    "else:\n",
    "    print(\"Student will able to sit in exam\")"
   ]
  },
  {
   "cell_type": "code",
   "execution_count": 21,
   "id": "2bb9dae8",
   "metadata": {},
   "outputs": [
    {
     "name": "stdout",
     "output_type": "stream",
     "text": [
      "Enter any letter; a\n",
      "It is a vowel\n"
     ]
    }
   ],
   "source": [
    "a=input('Enter any letter; ')\n",
    "if a in ('aeiouAEIOU'):\n",
    "    print('It is a vowel') \n",
    "else:\n",
    "    print('it is not a vowel')  "
   ]
  },
  {
   "cell_type": "code",
   "execution_count": 26,
   "id": "8d97cb28",
   "metadata": {},
   "outputs": [
    {
     "name": "stdout",
     "output_type": "stream",
     "text": [
      "Enter your number: 5\n",
      "It is a thursday\n"
     ]
    }
   ],
   "source": [
    "number=int(input('Enter your number: '))\n",
    "if number==1:\n",
    "    print('It is a Sunday')\n",
    "elif number==2:\n",
    "    print('It is a Monday')\n",
    "elif number==3:\n",
    "    print('It is a Tuesday')\n",
    "elif number==4:\n",
    "    print('It is a wednesday')\n",
    "elif number==5:\n",
    "    print('It is a thursday')\n",
    "elif number==6:\n",
    "    print('It is a Friday')\n",
    "elif number==7:\n",
    "    print('It is a Saturday')\n",
    "else:\n",
    "    print('Invalid input')"
   ]
  },
  {
   "cell_type": "code",
   "execution_count": 29,
   "id": "05921179",
   "metadata": {},
   "outputs": [
    {
     "name": "stdout",
     "output_type": "stream",
     "text": [
      "Enter your city: delhi\n",
      "Red fort is monumant\n"
     ]
    }
   ],
   "source": [
    "city=input('Enter your city: ')\n",
    "if city=='delhi':\n",
    "    print('Red fort is monumant')\n",
    "elif city=='agra':\n",
    "    print('Taj mahal is monument')\n",
    "elif city=='Jaipur':\n",
    "    print('Jal Mahal is monument')\n",
    "else:\n",
    "    print('invalid city')\n"
   ]
  },
  {
   "cell_type": "code",
   "execution_count": 37,
   "id": "935eb65d",
   "metadata": {},
   "outputs": [
    {
     "name": "stdout",
     "output_type": "stream",
     "text": [
      "Enter person age: 18\n",
      "The person is eligible for voting\n"
     ]
    }
   ],
   "source": [
    "person=int(input('Enter person age: '))\n",
    "if person>=18:\n",
    "    print('The person is eligible for voting')\n",
    "else:\n",
    "    print('The person is not eligible for voting')"
   ]
  },
  {
   "cell_type": "code",
   "execution_count": 42,
   "id": "f07b938a",
   "metadata": {},
   "outputs": [
    {
     "name": "stdout",
     "output_type": "stream",
     "text": [
      "                                Basic_Calculator                                \n",
      "Enter your first Number: 10\n",
      "Enter your Second Number: 2\n",
      "Which Command you want to perform\n",
      "1.Addition\n",
      "2.Subtract\n",
      "3.Multiplication\n",
      "4.divide\n",
      "5.Exponentiation\n",
      "6.Modulus\n",
      "7.floor division\n",
      "Enter your command: 4\n",
      "You choose divide:  5.0\n"
     ]
    }
   ],
   "source": [
    "z=\"Basic_Calculator\"\n",
    "z=z.center(80)\n",
    "print(z)\n",
    "a=int(input('Enter your first Number: '))\n",
    "b=int(input('Enter your Second Number: '))\n",
    "print('Which Command you want to perform')\n",
    "print('1.Addition')\n",
    "print('2.Subtract')\n",
    "print('3.Multiplication')\n",
    "print('4.divide')\n",
    "print(\"5.Exponentiation\")\n",
    "print('6.Modulus')\n",
    "print('7.floor division')\n",
    "c=int(input('Enter your command: '))\n",
    "if c==1:\n",
    "    print('You choose Addition: ',a+b)\n",
    "elif c==2:\n",
    "    print('You choose Subtract: ',a-b)\n",
    "elif c==3:\n",
    "    print('You choose Multiplication: ',a*b)\n",
    "elif c==4:\n",
    "    print('You choose divide: ',a/b)\n",
    "elif c==5:\n",
    "    print('You choose Exponentiation: ',a**b)\n",
    "elif c==6:\n",
    "    print('You choose Modulus: ',a%b)\n",
    "elif c==7:\n",
    "    print('You choose floor division: ',a//b)\n",
    "else:\n",
    "    print('invaid input')"
   ]
  },
  {
   "cell_type": "code",
   "execution_count": 44,
   "id": "3760d768",
   "metadata": {},
   "outputs": [
    {
     "name": "stdout",
     "output_type": "stream",
     "text": [
      "Enter your length: 50\n",
      "Enter your breath: 50\n",
      "It is a square\n"
     ]
    }
   ],
   "source": [
    "length=int(input('Enter your length: '))\n",
    "breath=int(input('Enter your breath: '))\n",
    "if length==breath:\n",
    "    print('It is a square')\n",
    "else:\n",
    "    print('It is not a square')"
   ]
  },
  {
   "cell_type": "code",
   "execution_count": null,
   "id": "049e908c",
   "metadata": {},
   "outputs": [],
   "source": []
  }
 ],
 "metadata": {
  "kernelspec": {
   "display_name": "Python 3 (ipykernel)",
   "language": "python",
   "name": "python3"
  },
  "language_info": {
   "codemirror_mode": {
    "name": "ipython",
    "version": 3
   },
   "file_extension": ".py",
   "mimetype": "text/x-python",
   "name": "python",
   "nbconvert_exporter": "python",
   "pygments_lexer": "ipython3",
   "version": "3.9.7"
  }
 },
 "nbformat": 4,
 "nbformat_minor": 5
}
