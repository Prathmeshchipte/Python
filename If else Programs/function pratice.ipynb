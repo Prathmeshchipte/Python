{
 "cells": [
  {
   "cell_type": "code",
   "execution_count": 4,
   "id": "2283fa4e",
   "metadata": {},
   "outputs": [
    {
     "name": "stdout",
     "output_type": "stream",
     "text": [
      "12321 is a palidrome\n"
     ]
    }
   ],
   "source": [
    "#wap to check whether the given number is palidrome or not\n",
    "def palidrome(num):\n",
    "    num_str=str(num)\n",
    "    reversed_str=num_str[::-1]\n",
    "    if num_str==reversed_str:\n",
    "        print(num,\"is a palidrome\")\n",
    "    else:\n",
    "        print(num,\"is a not a palidrome\")\n",
    "palidrome(12321)              \n",
    "              \n",
    "   "
   ]
  },
  {
   "cell_type": "code",
   "execution_count": 5,
   "id": "af3f864d",
   "metadata": {},
   "outputs": [
    {
     "name": "stdout",
     "output_type": "stream",
     "text": [
      "[1, 2, 3, 6, 4, 5, 8, 45]\n"
     ]
    }
   ],
   "source": [
    "#create a unique list\n",
    "def unique_list(input_list):\n",
    "    unique_element=[]\n",
    "    for i in input_list:\n",
    "        if i not in unique_element:\n",
    "            unique_element.append(i)\n",
    "    return  unique_element\n",
    "my_list=[1,2,3,6,4,5,8,6,45,3,2,1,1,3,2,4,3,2]\n",
    "print(unique_list(my_list))\n",
    "        "
   ]
  },
  {
   "cell_type": "code",
   "execution_count": 38,
   "id": "d2d9cc19",
   "metadata": {},
   "outputs": [
    {
     "name": "stdout",
     "output_type": "stream",
     "text": [
      "hello\tprathmesh\n"
     ]
    }
   ],
   "source": [
    "#explain what is default and required arguments with an example of each\n",
    "def greet(name='prathmesh'):\n",
    "     print(\"hello\\t\"+name)\n",
    "greet()        \n",
    "      "
   ]
  },
  {
   "cell_type": "code",
   "execution_count": 17,
   "id": "3da63ee8",
   "metadata": {},
   "outputs": [
    {
     "name": "stdout",
     "output_type": "stream",
     "text": [
      "Square of 2 is 4\n",
      "multiply of 2 and 3 is 6\n"
     ]
    }
   ],
   "source": [
    "#lamda function\n",
    "square= lambda x:x**2\n",
    "print(\"Square of 2 is\",square(2))\n",
    "\n",
    "multiply=lambda x,y:x*y\n",
    "print(\"multiply of 2 and 3 is\",multiply(2,3))"
   ]
  },
  {
   "cell_type": "code",
   "execution_count": 26,
   "id": "349fbd71",
   "metadata": {},
   "outputs": [
    {
     "name": "stdout",
     "output_type": "stream",
     "text": [
      "['jay A kumar', 'deepak N sharma', 'mithilesh singh', 'payal vasave', 'rohit N yadav']\n"
     ]
    }
   ],
   "source": [
    "#create a lambda function to sort the name list according to their surname.\n",
    "name=[\"jay A kumar\",\"deepak N sharma\",'rohit N yadav','mithilesh singh','payal vasave']\n",
    "sorted_name=sorted(name,key=lambda x:x.split()[-1])\n",
    "print(sorted_name)\n",
    "\n",
    "        "
   ]
  },
  {
   "cell_type": "code",
   "execution_count": null,
   "id": "5e0b17a5",
   "metadata": {},
   "outputs": [],
   "source": []
  }
 ],
 "metadata": {
  "kernelspec": {
   "display_name": "Python 3 (ipykernel)",
   "language": "python",
   "name": "python3"
  },
  "language_info": {
   "codemirror_mode": {
    "name": "ipython",
    "version": 3
   },
   "file_extension": ".py",
   "mimetype": "text/x-python",
   "name": "python",
   "nbconvert_exporter": "python",
   "pygments_lexer": "ipython3",
   "version": "3.9.12"
  }
 },
 "nbformat": 4,
 "nbformat_minor": 5
}
