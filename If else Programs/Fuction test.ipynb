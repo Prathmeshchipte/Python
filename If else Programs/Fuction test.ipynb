{
 "cells": [
  {
   "cell_type": "code",
   "execution_count": 7,
   "id": "492c1388",
   "metadata": {},
   "outputs": [
    {
     "name": "stdout",
     "output_type": "stream",
     "text": [
      "12321 is a palidrome number\n"
     ]
    }
   ],
   "source": [
    "#function for palidrome\n",
    "def palidrome(num):\n",
    "    new_num=str(num)\n",
    "    reverse_num=new_num[::-1]\n",
    "    if new_num==reverse_num:\n",
    "        print(num,\"is a palidrome number\")\n",
    "    else:\n",
    "        print(num,\"is not a palidrome number\")\n",
    "palidrome(12321)        "
   ]
  },
  {
   "cell_type": "code",
   "execution_count": 13,
   "id": "9ebaf964",
   "metadata": {},
   "outputs": [
    {
     "name": "stdout",
     "output_type": "stream",
     "text": [
      "153 is a armstrong number\n"
     ]
    }
   ],
   "source": [
    "#function for armstrong\n",
    "def armstrong(num):\n",
    "    new_num=str(num)\n",
    "    num_digit=len(new_num)\n",
    "    sum=0\n",
    "    for i in new_num:\n",
    "        sum+=int(i)**num_digit\n",
    "    if sum==num:\n",
    "        print(num,\"is a armstrong number\")\n",
    "    else:\n",
    "        print(num,\"is not a armstrong number\")\n",
    "armstrong(153)        \n",
    "        "
   ]
  },
  {
   "cell_type": "code",
   "execution_count": 14,
   "id": "7ac795fd",
   "metadata": {},
   "outputs": [
    {
     "name": "stdout",
     "output_type": "stream",
     "text": [
      "9 is a neon number\n"
     ]
    }
   ],
   "source": [
    "#function for neon\n",
    "def neon(num):\n",
    "    square=num**2\n",
    "    sum_digit=sum([int(i) for i in str(square)])\n",
    "    if sum_digit==num:\n",
    "        print(num,\"is a neon number\")\n",
    "    else:\n",
    "        print(num,\"is not a neon number\")\n",
    "neon(9)        "
   ]
  },
  {
   "cell_type": "code",
   "execution_count": 21,
   "id": "ef9adedb",
   "metadata": {},
   "outputs": [
    {
     "name": "stdout",
     "output_type": "stream",
     "text": [
      "6 is a perfect number\n"
     ]
    }
   ],
   "source": [
    "#function for Perfect\n",
    "def perfect(num):\n",
    "    sum_of_divisor=sum([i for i in range(1,num) if num%i==0])\n",
    "    if sum_of_divisor==num:\n",
    "        print(num,\"is a perfect number\")\n",
    "    else:\n",
    "        print(num,\"is not a perfect number\")\n",
    "perfect(6)        "
   ]
  },
  {
   "cell_type": "code",
   "execution_count": 24,
   "id": "936b4986",
   "metadata": {},
   "outputs": [
    {
     "name": "stdout",
     "output_type": "stream",
     "text": [
      "calculator\n",
      "select operation.\n",
      "1.add.\n",
      "2.subtract.\n",
      "3.multiply.\n",
      "4.divide.\n",
      "enter your choice(1/2/3/4):1\n",
      "enter your 1 number3\n",
      "enter your 2 number2\n",
      "3 + 2 = 5\n"
     ]
    }
   ],
   "source": [
    "print(\"calculator\")\n",
    "def add(a,b):\n",
    "    return(a+b)\n",
    "def subtract(a,b):\n",
    "    return(a-b)\n",
    "def multiply(a,b):\n",
    "    return(a*b)\n",
    "def divide(a,b):\n",
    "    return(a/b)\n",
    "def calculator():\n",
    "    print(\"select operation.\")\n",
    "    print(\"1.add.\")\n",
    "    print(\"2.subtract.\")\n",
    "    print(\"3.multiply.\")\n",
    "    print(\"4.divide.\")\n",
    "    choice=int(input(\"enter your choice(1/2/3/4):\"))\n",
    "    num1=int(input('enter your 1 number'))\n",
    "    num2=int(input('enter your 2 number'))\n",
    "    if choice == 1:\n",
    "        print(num1,\"+\",num2,'=',add(num1,num2))\n",
    "    elif choice == 2:\n",
    "        print(num1,\"-\",num2,'=',subtract(num1,num2))\n",
    "    elif choice == 3:\n",
    "        print(num1,\"*\",num2,'=',multiply(num1,num2))\n",
    "    elif choice == 4:\n",
    "        print(num1,\"/\",num2,'=',divide(num1,num2))\n",
    "    else:\n",
    "        print('invalid input')\n",
    "calculator()        "
   ]
  },
  {
   "cell_type": "code",
   "execution_count": 30,
   "id": "1b2eb879",
   "metadata": {},
   "outputs": [
    {
     "name": "stdout",
     "output_type": "stream",
     "text": [
      "15\n"
     ]
    }
   ],
   "source": [
    "#the calculate the sum of the first n  natural number\n",
    "def sum_natural(num):\n",
    "    sum=0\n",
    "    for i in range(1,num+1):\n",
    "        sum+=i\n",
    "    return sum\n",
    "print(sum_natural(5))        "
   ]
  },
  {
   "cell_type": "code",
   "execution_count": 33,
   "id": "2d49b057",
   "metadata": {},
   "outputs": [
    {
     "name": "stdout",
     "output_type": "stream",
     "text": [
      "[1, 2, 4, 5, 6, 3, 7, 8]\n"
     ]
    }
   ],
   "source": [
    "#takes a list and return an unique element\n",
    "def unique_list(input_list):\n",
    "    unique_element=[]\n",
    "    for i in input_list:\n",
    "        if i not in unique_element:\n",
    "            unique_element.append(i)\n",
    "    return unique_element\n",
    "my_list=[1,2,4,5,6,3,4,7,3,8,2,5,2,7]\n",
    "print(unique_list(my_list))\n"
   ]
  },
  {
   "cell_type": "code",
   "execution_count": 40,
   "id": "0becb8b7",
   "metadata": {},
   "outputs": [
    {
     "name": "stdout",
     "output_type": "stream",
     "text": [
      "12 is maximun\n"
     ]
    }
   ],
   "source": [
    "#returns max n min values\n",
    "def max_min(num1,num2):\n",
    "    if num1>num2:\n",
    "        max_num=num1\n",
    "        min_num=num2\n",
    "        print(num1,\"is maximun\")\n",
    "    else:\n",
    "        print(num1,\"is minimun\")\n",
    "max_min(12,6)        \n",
    "        "
   ]
  },
  {
   "cell_type": "code",
   "execution_count": 60,
   "id": "1bd8a36f",
   "metadata": {},
   "outputs": [
    {
     "name": "stdout",
     "output_type": "stream",
     "text": [
      "number of uppercase count is 5\n",
      "number of lowercase counr is 25\n"
     ]
    }
   ],
   "source": [
    "# find upper n lower case\n",
    "def upper_lower(string):\n",
    "    uppercount=0\n",
    "    lowercount=0\n",
    "    for i in string:\n",
    "        if  i.isupper():\n",
    "            uppercount+=1\n",
    "        \n",
    "        elif i.islower():\n",
    "             lowercount+=1\n",
    "            \n",
    "    return (uppercount,lowercount)          \n",
    "my_string=('My Name is Prathamesh Ganpat Chipte') \n",
    "uppercount,lowercount=upper_lower(my_string)\n",
    "print('number of uppercase count is',uppercount)\n",
    "print('number of lowercase counr is',lowercount)\n",
    "            \n",
    "            \n",
    "            "
   ]
  },
  {
   "cell_type": "code",
   "execution_count": null,
   "id": "49136fca",
   "metadata": {},
   "outputs": [],
   "source": []
  }
 ],
 "metadata": {
  "kernelspec": {
   "display_name": "Python 3 (ipykernel)",
   "language": "python",
   "name": "python3"
  },
  "language_info": {
   "codemirror_mode": {
    "name": "ipython",
    "version": 3
   },
   "file_extension": ".py",
   "mimetype": "text/x-python",
   "name": "python",
   "nbconvert_exporter": "python",
   "pygments_lexer": "ipython3",
   "version": "3.10.9"
  }
 },
 "nbformat": 4,
 "nbformat_minor": 5
}
