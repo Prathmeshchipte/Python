{
 "cells": [
  {
   "cell_type": "code",
   "execution_count": 3,
   "id": "76e30447",
   "metadata": {},
   "outputs": [
    {
     "name": "stdout",
     "output_type": "stream",
     "text": [
      "Enter your number: 3\n",
      "sum of first n number 6\n"
     ]
    }
   ],
   "source": [
    "#Calculate sum of first n numbers.\n",
    "num=int(input('Enter your number: '))\n",
    "sum=0\n",
    "for i in range(1,num+1):\n",
    "    sum+=i\n",
    "print(\"sum of first n number\",sum)"
   ]
  },
  {
   "cell_type": "code",
   "execution_count": 36,
   "id": "890e8c60",
   "metadata": {},
   "outputs": [
    {
     "name": "stdout",
     "output_type": "stream",
     "text": [
      "100 99 98 97 96 95 94 93 92 91 \n",
      "90 89 88 87 86 85 84 83 82 81 \n",
      "80 79 78 77 76 75 74 73 72 71 \n",
      "70 69 68 67 66 65 64 63 62 61 \n",
      "60 59 58 57 56 55 54 53 52 51 \n",
      "50 49 48 47 46 45 44 43 42 41 \n",
      "40 39 38 37 36 35 34 33 32 31 \n",
      "30 29 28 27 26 25 24 23 22 21 \n",
      "20 19 18 17 16 15 14 13 12 11 \n",
      "10 9 8 7 6 5 4 3 2 1 \n"
     ]
    }
   ],
   "source": [
    "#print number from 100 to 1.print 10 numbers on each line\n",
    "for i in range(100,0,-1):\n",
    "    print(i,end=\" \")\n",
    "    if i%10==1:\n",
    "        print()\n",
    "        \n",
    "            "
   ]
  },
  {
   "cell_type": "code",
   "execution_count": 39,
   "id": "e4b20c22",
   "metadata": {},
   "outputs": [
    {
     "name": "stdout",
     "output_type": "stream",
     "text": [
      "TYB-COM\n",
      "TYB-COM\n",
      "TYB-COM\n",
      "TYB-COM\n",
      "TYB-COM\n"
     ]
    }
   ],
   "source": [
    "#Write three separate programs to print TYB-COM 5 times using all the 3 loops.\n",
    "for i in range(5):\n",
    "    print(\"TYB-COM\")"
   ]
  },
  {
   "cell_type": "code",
   "execution_count": 54,
   "id": "9ca69027",
   "metadata": {},
   "outputs": [
    {
     "name": "stdout",
     "output_type": "stream",
     "text": [
      "TYB-COM\n",
      "TYB-COM\n",
      "TYB-COM\n",
      "TYB-COM\n",
      "TYB-COM\n"
     ]
    }
   ],
   "source": [
    "i = 1\n",
    "while i<6:\n",
    "    print('TYB-COM')\n",
    "    i+=1"
   ]
  },
  {
   "cell_type": "code",
   "execution_count": 2,
   "id": "3199be65",
   "metadata": {},
   "outputs": [
    {
     "name": "stdout",
     "output_type": "stream",
     "text": [
      "13 15 \n"
     ]
    }
   ],
   "source": [
    "#to print all odd intergers from 13 to 69. print 8 intergers on each line\n",
    "for i,j in zip(range(13,70,2),(1,32)):\n",
    "    print(i,end=\" \")\n",
    "    if j%8==0:\n",
    "        print()\n",
    " "
   ]
  },
  {
   "cell_type": "code",
   "execution_count": 9,
   "id": "cacb67d8",
   "metadata": {},
   "outputs": [
    {
     "name": "stdout",
     "output_type": "stream",
     "text": [
      "sum of first 5 numbers is 15\n",
      "Product of first 5 numbers is 120\n"
     ]
    }
   ],
   "source": [
    "#to find and print the sum and product of first 5 natural number\n",
    "num=(1,2,3,4,5)\n",
    "add=0\n",
    "product=1\n",
    "for i in num:\n",
    "    add+=i\n",
    "    product*=i\n",
    "print(\"sum of first 5 numbers is\",add)\n",
    "print(\"Product of first 5 numbers is\",product)"
   ]
  },
  {
   "cell_type": "code",
   "execution_count": null,
   "id": "cb197fbe",
   "metadata": {},
   "outputs": [],
   "source": []
  }
 ],
 "metadata": {
  "kernelspec": {
   "display_name": "Python 3 (ipykernel)",
   "language": "python",
   "name": "python3"
  },
  "language_info": {
   "codemirror_mode": {
    "name": "ipython",
    "version": 3
   },
   "file_extension": ".py",
   "mimetype": "text/x-python",
   "name": "python",
   "nbconvert_exporter": "python",
   "pygments_lexer": "ipython3",
   "version": "3.9.7"
  }
 },
 "nbformat": 4,
 "nbformat_minor": 5
}
